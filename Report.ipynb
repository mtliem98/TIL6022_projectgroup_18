{
 "cells": [
  {
   "cell_type": "markdown",
   "id": "ca516579",
   "metadata": {},
   "source": [
    "# Title\n",
    "\n",
    "### Group 18\n",
    "\n",
    "Members: Antonie Hille Bram Dorland, Michael Liem, Nynke Sterk, Gergely Turi​\n",
    "\n",
    "GitHub repository: https://github.com/mtliem98/TIL6022_projectgroup_18"
   ]
  },
  {
   "cell_type": "markdown",
   "id": "2787b2da",
   "metadata": {},
   "source": [
    "# Contribution Statement\n",
    "\n",
    "Antonie Hille:\n",
    "\n",
    "Bram Dorland:\n",
    "\n",
    "Michael Liem:\n",
    "\n",
    "Nynke Sterk:\n",
    "\n",
    "Gergely Turi​:"
   ]
  },
  {
   "cell_type": "markdown",
   "id": "4f4928de",
   "metadata": {},
   "source": [
    "# Introduction\n",
    "\n",
    "Modelling the effect of building the Lelylijn on line usage in the surrounding area."
   ]
  },
  {
   "cell_type": "markdown",
   "id": "efafdf9e",
   "metadata": {},
   "source": [
    "# Research Questions\n",
    "\n",
    "How many people travel between each station currently?\n",
    "\n",
    "See how the newly built line would affect the travel time map. How many people have better access to big transport hubs?\n",
    "\n",
    "How many passengers will use the Lelylijn without any additional demand?​\n",
    "\n",
    "How does the passenger flow change with the Lelylijn on the surrounding train lines without any additional demand?​"
   ]
  },
  {
   "cell_type": "markdown",
   "id": "d64e1aae",
   "metadata": {},
   "source": [
    "# Data Used\n",
    "\n",
    "NS dashboard reizigersgedrag, 2024 (https://dashboards.nsjaarverslag.nl/reizigersgedrag)​\n",
    "\n",
    "GTFS routes, locations (https://gtfs.ovapi.nl/nl/gtfs-nl.zip)\n",
    "\n",
    "Current and proposed train timetable​ (https://delelylijn.nl/wp-content/uploads/2024/05/28-Meibrief-Lelylijn_280524.pdf)"
   ]
  },
  {
   "cell_type": "markdown",
   "id": "bae341a9",
   "metadata": {},
   "source": [
    "# Data Pipeline\n",
    "\n",
    "Import data on all stations and lines.\n",
    "\n",
    "Import GTFS dataset.\n",
    "\n",
    "Create L and P-graph.\n",
    "\n",
    "Use a shortest path algorithm to determine the cost of travelling between two places.\n",
    "\n",
    "Model travel behaviour and create an OD-matrix.\n",
    "\n",
    "Verify the above model with the directional data from the NS.\n",
    "\n",
    "Calculate the projected change in travel times (and create maps and charts on it).\n",
    "\n",
    "Apply the same travel behaviour model to the new map with the same number of passengers."
   ]
  },
  {
   "cell_type": "markdown",
   "id": "4230c802",
   "metadata": {},
   "source": [
    "# Scale\n",
    "\n",
    "### Geographical\n",
    "\n",
    "East of Amsterdam​\n",
    "\n",
    "Northeast of Utrecht​\n",
    "\n",
    "North of Deventer​\n",
    "\n",
    "### Temporal\n",
    "\n",
    "We take the average daily travellers for the travel demand. Last year’s data is used all the way through the exercise; we do not estimate any changes on the existing infrastructure unrelated to the construction of the new line.\n",
    "\n",
    "​"
   ]
  },
  {
   "cell_type": "markdown",
   "id": "618fce88",
   "metadata": {},
   "source": [
    "# Graphs, questions here"
   ]
  },
  {
   "cell_type": "markdown",
   "id": "0e45f65c",
   "metadata": {},
   "source": [
    "# Conclusion"
   ]
  }
 ],
 "metadata": {
  "language_info": {
   "name": "python"
  }
 },
 "nbformat": 4,
 "nbformat_minor": 5
}
