{
 "cells": [
  {
   "cell_type": "markdown",
   "id": "ca516579",
   "metadata": {},
   "source": [
    "# Title\n",
    "\n",
    "### Group 18\n",
    "\n",
    "Members: Antonie Hille, Bram Dorland, Michael Liem, Nynke Sterk, Gergely Turi​\n",
    "\n",
    "GitHub repository: https://github.com/mtliem98/TIL6022_projectgroup_18"
   ]
  },
  {
   "cell_type": "markdown",
   "id": "2787b2da",
   "metadata": {},
   "source": [
    "# Contribution Statement\n",
    "\n",
    "Antonie Hille:\n",
    "\n",
    "Bram Dorland:\n",
    "\n",
    "Michael Liem:\n",
    "\n",
    "Nynke Sterk:\n",
    "\n",
    "Gergely Turi​:"
   ]
  },
  {
   "cell_type": "markdown",
   "id": "4f4928de",
   "metadata": {},
   "source": [
    "# Introduction\n",
    "\n",
    "Modelling the effect of building the Lelylijn on line usage in the surrounding area."
   ]
  },
  {
   "cell_type": "markdown",
   "id": "efafdf9e",
   "metadata": {},
   "source": [
    "# Research Questions\n",
    "\n",
    "How many people travel between each station currently?\n",
    "\n",
    "See how the newly built line would affect the travel time map.\n",
    "\n",
    "How many people have better access to big transport hubs?\n",
    "\n",
    "How many passengers will use the Lelylijn without any additional demand?​\n",
    "\n",
    "How does the passenger flow change with the Lelylijn on the surrounding train lines without any additional demand?​"
   ]
  },
  {
   "cell_type": "markdown",
   "id": "d64e1aae",
   "metadata": {},
   "source": [
    "# Data Used\n",
    "\n",
    "For our exercise we used two main sources of data, along with a other minor ones. To build our OD matrix, we used the publicly available NS Traveller behaviour dataset. This includes the yearly workday averages of different passenger metrics on all NS operated railway lines. At time of submission, it is accessible on the following link: https://dashboards.nsjaarverslag.nl/reizigersgedrag\n",
    "\n",
    "![alt text](Images/dashboard.png)\n",
    "\n",
    "To get the locations of the statios and the median travel time between them, our program automatically fetches the latest GTFS database from https://gtfs.ovapi.nl/nl/gtfs-nl.zip and compares it with the local copy (if it already exists).\n",
    "\n",
    "As for Lelylinj's proposed travel times, we used the following map, found in the following .pdf file, on Lelylijn's website: https://delelylijn.nl/wp-content/uploads/2024/05/28-Meibrief-Lelylijn_280524.pdf\n",
    "\n",
    "![alt text](<Images/new travel times.png>)"
   ]
  },
  {
   "cell_type": "markdown",
   "id": "bae341a9",
   "metadata": {},
   "source": [
    "# Data Pipeline\n",
    "\n",
    "Import data on all stations and lines.\n",
    "\n",
    "Import GTFS dataset.\n",
    "\n",
    "Create L and P-graph.\n",
    "\n",
    "Use a shortest path algorithm to determine the cost of travelling between two places.\n",
    "\n",
    "Model travel behaviour and create an OD-matrix.\n",
    "\n",
    "Verify the above model with the directional data from the NS.\n",
    "\n",
    "Calculate the projected change in travel times (and create maps and charts on it).\n",
    "\n",
    "Apply the same travel behaviour model to the new map with the same number of passengers."
   ]
  },
  {
   "cell_type": "markdown",
   "id": "4230c802",
   "metadata": {},
   "source": [
    "# Scale\n",
    "\n",
    "To keep our workload within reasonable limits, we had to limit the scope of our work, both in terms of geographical and temporal means\n",
    "\n",
    "### Geographical\n",
    "\n",
    "To keep the input data relevant to Lelylijn, we only included station data within the following geographical limits: \n",
    "\n",
    "* East of Amsterdam​\n",
    "\n",
    "* Northeast of Utrecht​\n",
    "\n",
    "* North of Deventer​\n",
    "\n",
    "This way we made sure the theoretical construction the new high-speed railway line wil not affect the passenger flow situated far from the new piece of infrastructure.\n",
    "\n",
    "![alt text](<Images/geo limits.png>)\n",
    "\n",
    "### Temporal\n",
    "\n",
    "As for the number of passengers, we used the most recent data available on the NS website (year 2024). We applied the numbers gathered from this source all the way through the entire exercise.\n",
    "\n",
    "In reality the construction will draw more travelers to trains, changing the modal split and raising the line usage. We did not account for this effect, we applied the already mentioned demand data to the new line."
   ]
  },
  {
   "cell_type": "markdown",
   "id": "618fce88",
   "metadata": {},
   "source": [
    "# Data visualization\n",
    "\n",
    "table with big stations, travel time change (heatmap/table) (Antonie, Gergő)\n",
    "big stations: Groningen, Leeuwarden, Zwolle, Lelystad, Amsterdam grouped, Utrecht Centraal, Amersfoort Centraal, Weesp\n",
    "\n",
    "map of edge saturation near Zwolle\n",
    "\n",
    "change of demand per edge (as the demand is mostly centered around AMS)"
   ]
  },
  {
   "cell_type": "markdown",
   "id": "eca5b5e4",
   "metadata": {},
   "source": [
    "# Answers to the questions here?"
   ]
  },
  {
   "cell_type": "markdown",
   "id": "0e45f65c",
   "metadata": {},
   "source": [
    "# Conclusion\n",
    "\n",
    "As we have previously demonstrated, the construction of Lelylijn would "
   ]
  }
 ],
 "metadata": {
  "language_info": {
   "name": "python"
  }
 },
 "nbformat": 4,
 "nbformat_minor": 5
}
