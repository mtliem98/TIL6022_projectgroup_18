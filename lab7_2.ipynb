{
 "cells": [
  {
   "cell_type": "markdown",
   "id": "b6706545",
   "metadata": {},
   "source": [
    "# Lab 7: Versioning 2"
   ]
  },
  {
   "cell_type": "markdown",
   "id": "2deaa5af",
   "metadata": {},
   "source": [
    "In this task, you will set up your own working repository as a group, work in separate branches and then merge your changes together.\n",
    "\n",
    "### Make the repository\n",
    "- Find your group\n",
    "- Nominate one person to create a new repository. To do this, follow the instructions [here](https://docs.github.com/en/repositories/creating-and-managing-repositories/creating-a-new-repository)\n",
    "- For your repository, keep all the default settings\n",
    "- Upload a copy of this notebook into the repo.\n",
    "- Provide a link to the repo in part 1 of the lab. Make sure this link can be found in your personal assignment repository."
   ]
  },
  {
   "cell_type": "markdown",
   "id": "51611ef0",
   "metadata": {},
   "source": [
    "\n",
    "### Clone repository onto local devices\n",
    "\n",
    "Now that the repository exists on Github, everyone in the group should clone it and create a branch on their local computers. \n",
    "You can find links to the instructions in README.md"
   ]
  },
  {
   "cell_type": "markdown",
   "id": "d3a11c84",
   "metadata": {},
   "source": [
    "### Create branches\n",
    "- Create your own branch. Name it the same as your Github username.\n",
    "- This includes the repository owner!\n",
    "\n",
    "### Make local changes\n",
    "\n",
    "Work individually on the coding exercises below.\n",
    "When you try to merge your changes, you may run into some merge conflicts as your groupmates make different edits than you.\n",
    "Check [here](https://code.visualstudio.com/docs/sourcecontrol/overview) if you need some help in solving these conflicts. Many conflicts can also be prevented by using good practices when working together, such as merging and pulling often and working on different lines."
   ]
  },
  {
   "cell_type": "code",
   "execution_count": null,
   "id": "8104ed78",
   "metadata": {},
   "outputs": [],
   "source": [
    "# Add yourself to this contributor list:\n",
    "\n",
    "contributors = [Nynke, turi1122, brammigamer, mtliem98]\n"
   ]
  },
  {
   "cell_type": "code",
   "execution_count": null,
   "id": "42b40b69",
   "metadata": {},
   "outputs": [],
   "source": [
    "# Add an entry in this dictionary:\n",
    "\n",
    "favorite_things = {\n",
    "    \"Nynke\": {\n",
    "        \"movie\": Paddington,\n",
    "        \"food\": apple,\n",
    "        \"animal\": orca\n",
    "    },\n",
    "    \"turi1122\": {\n",
    "        \"movie\": Cats,\n",
    "        \"food\": Cats,\n",
    "        \"animal\": Cats\n",
    "    },\n",
    "    \"brammigamer\": {\n",
    "        \"movie\": \"The Mario Movie\",\n",
    "        \"food\": \"ham cheese croissant\",\n",
    "        \"animal\": \"dog\"\n",
    "    },\n",
    "    \"mtliem98\": {\n",
    "        \"movie\": 'lotr',\n",
    "        \"food\": 'Spaghetoni',\n",
    "        \"animal\": 'Cat',\n",
    "    }\n",
    "}"
   ]
  },
  {
   "cell_type": "code",
   "execution_count": null,
   "id": "f2b66f6a",
   "metadata": {},
   "outputs": [],
   "source": [
    "# Add a joke into the joke library:\n",
    "\n",
    "jokes = [\n",
    "    \"There are 10 kinds of people in the world: those who understand binary, and those who don't.\",\n",
    "    \"Jokes, jokes, jokes, jokes, and more jokes, because you can never have too many jokes.\"\n",
    "    \"Campus tramline\"\n",
    "    \"What to do in case of a fire: git commit, git push, run away.\"\n",
    "    \"Shortest lab joke\"\n",
    "]"
   ]
  },
  {
   "cell_type": "markdown",
   "id": "0ee60dca",
   "metadata": {},
   "source": [
    "### Merge into the original branch\n",
    "\n",
    "- Commit, push and sync your changes using the VS Code Github interface.\n",
    "- Create merge requests into the main branch. \n",
    "- The repository owner will have to approve these requests to merge them."
   ]
  }
 ],
 "metadata": {
  "kernelspec": {
   "display_name": "TIL",
   "language": "python",
   "name": "python3"
  },
  "language_info": {
   "name": "python",
   "version": "3.12.11"
  }
 },
 "nbformat": 4,
 "nbformat_minor": 5
}
